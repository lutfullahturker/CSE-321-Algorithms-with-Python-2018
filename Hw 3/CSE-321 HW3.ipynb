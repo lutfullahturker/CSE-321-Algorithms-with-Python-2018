{
 "cells": [
  {
   "cell_type": "markdown",
   "metadata": {},
   "source": [
    "# CSE - 321  Homework 3"
   ]
  },
  {
   "cell_type": "markdown",
   "metadata": {},
   "source": [
    "## Question 1"
   ]
  },
  {
   "cell_type": "markdown",
   "metadata": {},
   "source": [
    "I have written a function that reads the file and creates a graph.\n",
    "My ReadAndFill function's complexity is **O(numOfRows * numOfCols)**. Because that it reads the excel file and it has one loop for rows and one loop for coloumns that insides the first loop. \n",
    "This function's code is in below."
   ]
  },
  {
   "cell_type": "code",
   "execution_count": 8,
   "metadata": {},
   "outputs": [],
   "source": [
    "def readAndFill(graph, vertexes, path):\n",
    "    if not os.path.isfile(path):\n",
    "        print(\"File doesn't exist. Please  enter Full Path from root\")\n",
    "        return False\n",
    "    book = xlrd.open_workbook(path)\n",
    "    excelFile = book.sheet_by_index(0)\n",
    "    numOfCols = excelFile.ncols\n",
    "    numOfRows = excelFile.nrows\n",
    "\n",
    "\n",
    "    for row_idx in range(3, numOfRows):   # start index is 3. Because first edge in Excel is in 4th row.\n",
    "        for col_idx in range(0, numOfCols):\n",
    "            if excelFile.cell(row_idx, col_idx).value not in vertexes :\n",
    "                vertexes.add(excelFile.cell(row_idx, col_idx).value)\n",
    "                graph[excelFile.cell(row_idx, col_idx).value] = set()\n",
    "            if col_idx == 0:\n",
    "                graph[excelFile.cell(row_idx, col_idx).value].add(excelFile.cell(row_idx, 1).value)\n",
    "    return excelFile.cell(0, 1).value  # returns the root (start vertex)"
   ]
  },
  {
   "cell_type": "markdown",
   "metadata": {},
   "source": [
    "My DFS Algorithm's complexity is **O(V + E)** where V is number of vertices in the graph and E is number of edges in the graph. My algorithm is in below."
   ]
  },
  {
   "cell_type": "code",
   "execution_count": 7,
   "metadata": {},
   "outputs": [],
   "source": [
    "def dfs(graph, root, visited = None):\n",
    "    if visited is None:\n",
    "        visited = set()\n",
    "    if root not in visited:   # for print a vertex only once\n",
    "        print(\"%s -> \" % root,end='')\n",
    "    visited.add(root)\n",
    "    for next in graph[root] - visited: # if adjacent vertex is not in visited  then call dfs for it\n",
    "        dfs(graph, next, visited)\n",
    "    return visited"
   ]
  },
  {
   "cell_type": "markdown",
   "metadata": {},
   "source": [
    "My BFS Algorithm's complexity is also **O(V + E)**. Note that my code traverses only the vertices reachable from start root vertex. All the vertices may not be reachable from start vertex (for example Disconnected graph)."
   ]
  },
  {
   "cell_type": "code",
   "execution_count": 6,
   "metadata": {},
   "outputs": [],
   "source": [
    "def bfs(graph, root):\n",
    "    visited, queue = {root}, collections.deque([root])\n",
    "    while queue:\n",
    "        vertex = queue.popleft()\n",
    "        print(\"%s -> \" % vertex, end='')\n",
    "        for node in graph[vertex]:\n",
    "            if node not in visited:\n",
    "                visited.add(node)\n",
    "                queue.append(node)"
   ]
  },
  {
   "cell_type": "markdown",
   "metadata": {},
   "source": [
    "The entire code is available in ZIP file."
   ]
  },
  {
   "cell_type": "markdown",
   "metadata": {},
   "source": [
    "## Question 2"
   ]
  },
  {
   "cell_type": "markdown",
   "metadata": {},
   "source": [
    "**???????????????????**"
   ]
  },
  {
   "cell_type": "markdown",
   "metadata": {},
   "source": [
    "## Question 3"
   ]
  },
  {
   "cell_type": "markdown",
   "metadata": {},
   "source": [
    "This problem is very similar to binary search. The only difference is that we search A[i] = i in this question.\n",
    "So problems complexity is same with binary search (T(n) = T(n/2) + c  ->> **O(log(n))**)."
   ]
  },
  {
   "cell_type": "code",
   "execution_count": 10,
   "metadata": {},
   "outputs": [],
   "source": [
    "def binSearch(arr, low, high):\n",
    "    if high >= low:\n",
    "        mid =(low + high) // 2\n",
    "        if mid == arr[mid]:\n",
    "            return mid\n",
    "        if mid > arr[mid]:\n",
    "            return binSearch(arr, (mid + 1), high)\n",
    "        else:\n",
    "            return binSearch(arr, low, (mid-1))\n",
    "    return -1"
   ]
  },
  {
   "cell_type": "markdown",
   "metadata": {},
   "source": [
    "My Test is ->> "
   ]
  },
  {
   "cell_type": "code",
   "execution_count": 11,
   "metadata": {},
   "outputs": [],
   "source": [
    "def main():\n",
    "    arr = [-384, -5, 2, 5, 8, 10, 14, 16, 26, 786]\n",
    "    print(\"Array =>\")\n",
    "    print(arr)\n",
    "    print()\n",
    "    size = len(arr)\n",
    "    result = binSearch(arr, 0, size - 1)\n",
    "    if result == -1:\n",
    "        print(\"There is not an index i for which Arr[i] = i .\")\n",
    "    else:\n",
    "        print(\"There is an index i for which Arr[i] = i .\\ni = \" + str(result))"
   ]
  },
  {
   "cell_type": "markdown",
   "metadata": {},
   "source": [
    "## Question 4"
   ]
  },
  {
   "cell_type": "markdown",
   "metadata": {},
   "source": [
    "I did a research on the internet about this problem. After reviewing the different approaches I had an idea.\n",
    "MaxSpan function is used to find the maximum subarray from l to h which includes elements m and m + 1.\n",
    "MaxSpan's worst case complexity is **O(n)**. Because it has 2 independent loop which turns n/2 times."
   ]
  },
  {
   "cell_type": "code",
   "execution_count": 12,
   "metadata": {},
   "outputs": [],
   "source": [
    "def maxSpan(arr, l, m, h):\n",
    "    sum = 0\n",
    "    leftSum = -99999\n",
    "    rightSum = -99999\n",
    "    firstInd = m\n",
    "\n",
    "    for i in range(m, l, -1):\n",
    "        sum = sum + arr[i]\n",
    "        if sum >= leftSum :\n",
    "            leftSum = sum\n",
    "            firstInd = i\n",
    "\n",
    "    sum = 0\n",
    "    secInd = m+1\n",
    "    for i in range(m + 1, h+1):\n",
    "        sum = sum + arr[i]\n",
    "        if (sum > rightSum):\n",
    "            rightSum = sum\n",
    "            secInd = i\n",
    "\n",
    "    return (firstInd,secInd,leftSum + rightSum)"
   ]
  },
  {
   "cell_type": "markdown",
   "metadata": {},
   "source": [
    "MaxSpan is a helper method. Main divide and conquer method is maxSubSetSum. It divides the array to 2 subArrays. maxSubSetSum is a recursive method. Its complexity is T(n) = 2T(n/2) + Θ(n). We can solve this recurrence relation with master Theorem.  It falls in case II of Master Theorem and solution of the recurrence is Θ(nLogn). So its complexity is **O(nLog(n))**"
   ]
  },
  {
   "cell_type": "code",
   "execution_count": 13,
   "metadata": {},
   "outputs": [],
   "source": [
    "def maxSubSetSum(arr, l, h):\n",
    "    if (l == h):\n",
    "        return (l,l,arr[l])\n",
    "\n",
    "    m = (l + h) // 2\n",
    "    maxLow = maxSubSetSum(arr, l, m)\n",
    "    maxHigh = maxSubSetSum(arr, m + 1, h)\n",
    "    maxSpanSum = maxSpan(arr, l, m, h)\n",
    "\n",
    "\n",
    "    maximum = max(maxLow[2], maxHigh[2], maxSpanSum[2])\n",
    "    if maximum == maxLow[2]:\n",
    "        return maxLow\n",
    "    elif maximum == maxHigh[2]:\n",
    "        return maxHigh\n",
    "    elif maximum == maxSpanSum[2]:\n",
    "        return maxSpanSum\n",
    "\n",
    "    return maxLow"
   ]
  },
  {
   "cell_type": "markdown",
   "metadata": {},
   "source": [
    "My test main function is ->>"
   ]
  },
  {
   "cell_type": "code",
   "execution_count": 14,
   "metadata": {},
   "outputs": [],
   "source": [
    "def main():\n",
    "    arr = [-34, -5, 2, 5, 8, -20, 14, 36, -26, 28]\n",
    "    size = len(arr)\n",
    "    maxSum = maxSubSetSum(arr, 0, size - 1)\n",
    "\n",
    "    print(\"Test Array is ->>\")\n",
    "    print(arr)\n",
    "    print()\n",
    "    print(\"Largest sum of contiguous subset is \", maxSum[2])\n",
    "    print(\"Contiguous subset is -> \")\n",
    "    print(arr[maxSum[0]:maxSum[1]+1])"
   ]
  },
  {
   "cell_type": "markdown",
   "metadata": {},
   "source": [
    "## Question 5"
   ]
  },
  {
   "cell_type": "markdown",
   "metadata": {},
   "source": [
    "I wrote patternControl function for pattern letters. Its complexity is **O(1)**. Because there is no loop and no recursive call. Pattern can be changeable in this function."
   ]
  },
  {
   "cell_type": "code",
   "execution_count": 15,
   "metadata": {},
   "outputs": [],
   "source": [
    "def patternControl(charCheck):\n",
    "    if charCheck == 'A' or charCheck == 'a':\n",
    "        return 'to'\n",
    "    elif charCheck == 'B' or charCheck == 'b':\n",
    "        return 'be'\n",
    "    elif charCheck == 'C' or charCheck == 'c':\n",
    "        return 'or'\n",
    "    elif charCheck == 'D' or charCheck == 'd':\n",
    "        return 'not'\n",
    "    else:\n",
    "        return ''"
   ]
  },
  {
   "cell_type": "markdown",
   "metadata": {},
   "source": [
    "My Recursive function is isPatternValid. This functions algorithm is similar to quick sort. Our pivot is pattern. We have one loop for pattern matching control.And recursive call for remaining pattern letters. Best case Complexity of this algoritm is **O(nLogn)**. Worst case is **O(n^2)**. Worst case occurs if pattern string size is equal to given string size and every pattern letter matches one letter in string. In this case, loop turns size times and recursive call size times."
   ]
  },
  {
   "cell_type": "code",
   "execution_count": 18,
   "metadata": {},
   "outputs": [],
   "source": [
    "def isPatternValid(string, pattern):\n",
    "    if len(string) == 0:\n",
    "        if len(pattern) == 0:  # if string and pattern reach here return 0, Successful case\n",
    "            return 0\n",
    "        else:\n",
    "            return -1\n",
    "    if len(pattern) == 0:  # if string  has finished but pattern has not finished, return -1\n",
    "        return -1\n",
    "    patternPart = patternControl(pattern[0])\n",
    "    size = len(patternPart)\n",
    "    if size == 0:\n",
    "        return -1  # Invalid pattern letter\n",
    "\n",
    "    for i in range(0, size):\n",
    "        if string[i] != patternPart[i]:   # if string doesn't match with pattern, return -1\n",
    "            return -1\n",
    "    return isPatternValid(string[size:], pattern[1:])  # recursive call for remaining pattern letters"
   ]
  },
  {
   "cell_type": "markdown",
   "metadata": {},
   "source": [
    "My Test Main Function is  ->>"
   ]
  },
  {
   "cell_type": "code",
   "execution_count": 19,
   "metadata": {},
   "outputs": [],
   "source": [
    "def main():\n",
    "    x = isPatternValid(\"tobeornotTObe\".lower(), \"ABCDAb\")\n",
    "    if x == 0:\n",
    "        print(\"Given pattern is valid on a given string.\")\n",
    "    else:\n",
    "        print(\"Given pattern is not valid on a given string.\")"
   ]
  },
  {
   "cell_type": "markdown",
   "metadata": {},
   "source": [
    " Full codes available in ZIP file."
   ]
  }
 ],
 "metadata": {
  "kernelspec": {
   "display_name": "Python 3",
   "language": "python",
   "name": "python3"
  },
  "language_info": {
   "codemirror_mode": {
    "name": "ipython",
    "version": 3
   },
   "file_extension": ".py",
   "mimetype": "text/x-python",
   "name": "python",
   "nbconvert_exporter": "python",
   "pygments_lexer": "ipython3",
   "version": "3.6.7"
  }
 },
 "nbformat": 4,
 "nbformat_minor": 2
}
